{
 "cells": [
  {
   "cell_type": "markdown",
   "id": "53160f2d",
   "metadata": {
    "id": "53160f2d"
   },
   "source": [
    "## NEURAL NETWORKS AND DEEP LEARNING\n",
    "### Time Series\n",
    "### Name:\n",
    "### Course:"
   ]
  },
  {
   "cell_type": "code",
   "execution_count": 3,
   "id": "19750a1a",
   "metadata": {
    "id": "19750a1a"
   },
   "outputs": [
    {
     "name": "stderr",
     "output_type": "stream",
     "text": [
      "2023-11-19 00:59:44.483390: I tensorflow/tsl/cuda/cudart_stub.cc:28] Could not find cuda drivers on your machine, GPU will not be used.\n",
      "2023-11-19 00:59:45.483674: E tensorflow/compiler/xla/stream_executor/cuda/cuda_dnn.cc:9342] Unable to register cuDNN factory: Attempting to register factory for plugin cuDNN when one has already been registered\n",
      "2023-11-19 00:59:45.483716: E tensorflow/compiler/xla/stream_executor/cuda/cuda_fft.cc:609] Unable to register cuFFT factory: Attempting to register factory for plugin cuFFT when one has already been registered\n",
      "2023-11-19 00:59:45.488216: E tensorflow/compiler/xla/stream_executor/cuda/cuda_blas.cc:1518] Unable to register cuBLAS factory: Attempting to register factory for plugin cuBLAS when one has already been registered\n",
      "2023-11-19 00:59:45.939796: I tensorflow/tsl/cuda/cudart_stub.cc:28] Could not find cuda drivers on your machine, GPU will not be used.\n",
      "2023-11-19 00:59:45.942920: I tensorflow/core/platform/cpu_feature_guard.cc:182] This TensorFlow binary is optimized to use available CPU instructions in performance-critical operations.\n",
      "To enable the following instructions: AVX2 FMA, in other operations, rebuild TensorFlow with the appropriate compiler flags.\n",
      "2023-11-19 00:59:47.964496: W tensorflow/compiler/tf2tensorrt/utils/py_utils.cc:38] TF-TRT Warning: Could not find TensorRT\n"
     ]
    }
   ],
   "source": [
    "# import the necessary libraries\n",
    "import numpy as np\n",
    "import pandas as pd\n",
    "import tensorflow as tf\n",
    "from tensorflow.keras import layers, models, optimizers\n",
    "import warnings\n",
    "warnings.filterwarnings('ignore')"
   ]
  },
  {
   "cell_type": "code",
   "execution_count": 4,
   "id": "d6fcc827",
   "metadata": {
    "id": "d6fcc827"
   },
   "outputs": [],
   "source": [
    "# Load dataset\n",
    "train_df = pd.read_csv('lsst-train.csv')\n",
    "test_df = pd.read_csv('lsst-test.csv')"
   ]
  },
  {
   "cell_type": "code",
   "execution_count": 5,
   "id": "d4ab2c15",
   "metadata": {
    "colab": {
     "base_uri": "https://localhost:8080/",
     "height": 236
    },
    "id": "d4ab2c15",
    "outputId": "c3b4a4e1-26d3-4700-e8b6-01c3bcbc2d66"
   },
   "outputs": [
    {
     "data": {
      "text/html": [
       "<div>\n",
       "<style scoped>\n",
       "    .dataframe tbody tr th:only-of-type {\n",
       "        vertical-align: middle;\n",
       "    }\n",
       "\n",
       "    .dataframe tbody tr th {\n",
       "        vertical-align: top;\n",
       "    }\n",
       "\n",
       "    .dataframe thead th {\n",
       "        text-align: right;\n",
       "    }\n",
       "</style>\n",
       "<table border=\"1\" class=\"dataframe\">\n",
       "  <thead>\n",
       "    <tr style=\"text-align: right;\">\n",
       "      <th></th>\n",
       "      <th>f-1-1</th>\n",
       "      <th>f-1-2</th>\n",
       "      <th>f-1-3</th>\n",
       "      <th>f-1-4</th>\n",
       "      <th>f-1-5</th>\n",
       "      <th>f-1-6</th>\n",
       "      <th>f-1-7</th>\n",
       "      <th>f-1-8</th>\n",
       "      <th>f-1-9</th>\n",
       "      <th>f-1-10</th>\n",
       "      <th>...</th>\n",
       "      <th>f-6-28</th>\n",
       "      <th>f-6-29</th>\n",
       "      <th>f-6-30</th>\n",
       "      <th>f-6-31</th>\n",
       "      <th>f-6-32</th>\n",
       "      <th>f-6-33</th>\n",
       "      <th>f-6-34</th>\n",
       "      <th>f-6-35</th>\n",
       "      <th>f-6-36</th>\n",
       "      <th>target</th>\n",
       "    </tr>\n",
       "  </thead>\n",
       "  <tbody>\n",
       "    <tr>\n",
       "      <th>0</th>\n",
       "      <td>2.57770</td>\n",
       "      <td>-1.18830</td>\n",
       "      <td>-4.98950</td>\n",
       "      <td>-6.4301</td>\n",
       "      <td>-4.6503</td>\n",
       "      <td>-1.02450</td>\n",
       "      <td>1.90420</td>\n",
       "      <td>2.48850</td>\n",
       "      <td>1.360500</td>\n",
       "      <td>0.90286</td>\n",
       "      <td>...</td>\n",
       "      <td>22.36600</td>\n",
       "      <td>-24.7480</td>\n",
       "      <td>-34.21500</td>\n",
       "      <td>7.7464</td>\n",
       "      <td>-5.8332</td>\n",
       "      <td>-0.71757</td>\n",
       "      <td>8.16160</td>\n",
       "      <td>-29.6940</td>\n",
       "      <td>-27.5700</td>\n",
       "      <td>c-90</td>\n",
       "    </tr>\n",
       "    <tr>\n",
       "      <th>1</th>\n",
       "      <td>6.67580</td>\n",
       "      <td>22.54300</td>\n",
       "      <td>44.02700</td>\n",
       "      <td>66.9610</td>\n",
       "      <td>86.0820</td>\n",
       "      <td>96.80400</td>\n",
       "      <td>96.76000</td>\n",
       "      <td>86.49400</td>\n",
       "      <td>69.094000</td>\n",
       "      <td>48.97100</td>\n",
       "      <td>...</td>\n",
       "      <td>19.26700</td>\n",
       "      <td>28.5110</td>\n",
       "      <td>0.97578</td>\n",
       "      <td>-28.0270</td>\n",
       "      <td>-18.0720</td>\n",
       "      <td>-4.00020</td>\n",
       "      <td>-43.07500</td>\n",
       "      <td>-4.7283</td>\n",
       "      <td>-43.0070</td>\n",
       "      <td>c-15</td>\n",
       "    </tr>\n",
       "    <tr>\n",
       "      <th>2</th>\n",
       "      <td>0.37554</td>\n",
       "      <td>-3.10860</td>\n",
       "      <td>-0.26009</td>\n",
       "      <td>3.2281</td>\n",
       "      <td>-1.9951</td>\n",
       "      <td>0.12797</td>\n",
       "      <td>0.25844</td>\n",
       "      <td>-0.25394</td>\n",
       "      <td>-0.091828</td>\n",
       "      <td>2.41440</td>\n",
       "      <td>...</td>\n",
       "      <td>-4.02610</td>\n",
       "      <td>14.5270</td>\n",
       "      <td>50.00500</td>\n",
       "      <td>-13.8860</td>\n",
       "      <td>3.3589</td>\n",
       "      <td>5.00450</td>\n",
       "      <td>-0.47256</td>\n",
       "      <td>-2.7713</td>\n",
       "      <td>1.9379</td>\n",
       "      <td>c-42</td>\n",
       "    </tr>\n",
       "    <tr>\n",
       "      <th>3</th>\n",
       "      <td>0.51852</td>\n",
       "      <td>0.12078</td>\n",
       "      <td>1.53240</td>\n",
       "      <td>5.5783</td>\n",
       "      <td>11.5340</td>\n",
       "      <td>17.01300</td>\n",
       "      <td>18.97100</td>\n",
       "      <td>15.38700</td>\n",
       "      <td>6.685500</td>\n",
       "      <td>-4.07800</td>\n",
       "      <td>...</td>\n",
       "      <td>23.24700</td>\n",
       "      <td>31.9850</td>\n",
       "      <td>26.62100</td>\n",
       "      <td>-12.2560</td>\n",
       "      <td>3.4805</td>\n",
       "      <td>23.80500</td>\n",
       "      <td>-32.36400</td>\n",
       "      <td>-15.1610</td>\n",
       "      <td>-14.4500</td>\n",
       "      <td>c-16</td>\n",
       "    </tr>\n",
       "    <tr>\n",
       "      <th>4</th>\n",
       "      <td>1.47150</td>\n",
       "      <td>1.44510</td>\n",
       "      <td>2.91330</td>\n",
       "      <td>1.0015</td>\n",
       "      <td>-1.2503</td>\n",
       "      <td>1.55160</td>\n",
       "      <td>1.73170</td>\n",
       "      <td>0.47796</td>\n",
       "      <td>0.539860</td>\n",
       "      <td>-1.71690</td>\n",
       "      <td>...</td>\n",
       "      <td>-0.18477</td>\n",
       "      <td>3.8533</td>\n",
       "      <td>-5.80000</td>\n",
       "      <td>1.4909</td>\n",
       "      <td>2.7581</td>\n",
       "      <td>-3.16650</td>\n",
       "      <td>-0.30058</td>\n",
       "      <td>6.6334</td>\n",
       "      <td>7.3427</td>\n",
       "      <td>c-67</td>\n",
       "    </tr>\n",
       "  </tbody>\n",
       "</table>\n",
       "<p>5 rows × 217 columns</p>\n",
       "</div>"
      ],
      "text/plain": [
       "     f-1-1     f-1-2     f-1-3    f-1-4    f-1-5     f-1-6     f-1-7  \\\n",
       "0  2.57770  -1.18830  -4.98950  -6.4301  -4.6503  -1.02450   1.90420   \n",
       "1  6.67580  22.54300  44.02700  66.9610  86.0820  96.80400  96.76000   \n",
       "2  0.37554  -3.10860  -0.26009   3.2281  -1.9951   0.12797   0.25844   \n",
       "3  0.51852   0.12078   1.53240   5.5783  11.5340  17.01300  18.97100   \n",
       "4  1.47150   1.44510   2.91330   1.0015  -1.2503   1.55160   1.73170   \n",
       "\n",
       "      f-1-8      f-1-9    f-1-10  ...    f-6-28   f-6-29    f-6-30   f-6-31  \\\n",
       "0   2.48850   1.360500   0.90286  ...  22.36600 -24.7480 -34.21500   7.7464   \n",
       "1  86.49400  69.094000  48.97100  ...  19.26700  28.5110   0.97578 -28.0270   \n",
       "2  -0.25394  -0.091828   2.41440  ...  -4.02610  14.5270  50.00500 -13.8860   \n",
       "3  15.38700   6.685500  -4.07800  ...  23.24700  31.9850  26.62100 -12.2560   \n",
       "4   0.47796   0.539860  -1.71690  ...  -0.18477   3.8533  -5.80000   1.4909   \n",
       "\n",
       "    f-6-32    f-6-33    f-6-34   f-6-35   f-6-36  target  \n",
       "0  -5.8332  -0.71757   8.16160 -29.6940 -27.5700    c-90  \n",
       "1 -18.0720  -4.00020 -43.07500  -4.7283 -43.0070    c-15  \n",
       "2   3.3589   5.00450  -0.47256  -2.7713   1.9379    c-42  \n",
       "3   3.4805  23.80500 -32.36400 -15.1610 -14.4500    c-16  \n",
       "4   2.7581  -3.16650  -0.30058   6.6334   7.3427    c-67  \n",
       "\n",
       "[5 rows x 217 columns]"
      ]
     },
     "execution_count": 5,
     "metadata": {},
     "output_type": "execute_result"
    }
   ],
   "source": [
    "train_df.head()"
   ]
  },
  {
   "cell_type": "code",
   "execution_count": 6,
   "id": "76e7d90e",
   "metadata": {
    "colab": {
     "base_uri": "https://localhost:8080/",
     "height": 236
    },
    "id": "76e7d90e",
    "outputId": "d4e11e63-ab91-4490-ff76-c7e2cfd2dcc0"
   },
   "outputs": [
    {
     "data": {
      "text/html": [
       "<div>\n",
       "<style scoped>\n",
       "    .dataframe tbody tr th:only-of-type {\n",
       "        vertical-align: middle;\n",
       "    }\n",
       "\n",
       "    .dataframe tbody tr th {\n",
       "        vertical-align: top;\n",
       "    }\n",
       "\n",
       "    .dataframe thead th {\n",
       "        text-align: right;\n",
       "    }\n",
       "</style>\n",
       "<table border=\"1\" class=\"dataframe\">\n",
       "  <thead>\n",
       "    <tr style=\"text-align: right;\">\n",
       "      <th></th>\n",
       "      <th>f-1-1</th>\n",
       "      <th>f-1-2</th>\n",
       "      <th>f-1-3</th>\n",
       "      <th>f-1-4</th>\n",
       "      <th>f-1-5</th>\n",
       "      <th>f-1-6</th>\n",
       "      <th>f-1-7</th>\n",
       "      <th>f-1-8</th>\n",
       "      <th>f-1-9</th>\n",
       "      <th>f-1-10</th>\n",
       "      <th>...</th>\n",
       "      <th>f-6-27</th>\n",
       "      <th>f-6-28</th>\n",
       "      <th>f-6-29</th>\n",
       "      <th>f-6-30</th>\n",
       "      <th>f-6-31</th>\n",
       "      <th>f-6-32</th>\n",
       "      <th>f-6-33</th>\n",
       "      <th>f-6-34</th>\n",
       "      <th>f-6-35</th>\n",
       "      <th>f-6-36</th>\n",
       "    </tr>\n",
       "  </thead>\n",
       "  <tbody>\n",
       "    <tr>\n",
       "      <th>0</th>\n",
       "      <td>25.575000</td>\n",
       "      <td>25.5650</td>\n",
       "      <td>6.8052</td>\n",
       "      <td>-26.012</td>\n",
       "      <td>-55.1290</td>\n",
       "      <td>-62.0750</td>\n",
       "      <td>-43.3400</td>\n",
       "      <td>-14.26500</td>\n",
       "      <td>4.03600</td>\n",
       "      <td>2.8128</td>\n",
       "      <td>...</td>\n",
       "      <td>114.9600</td>\n",
       "      <td>116.3700</td>\n",
       "      <td>69.0540</td>\n",
       "      <td>11.8250</td>\n",
       "      <td>29.5960</td>\n",
       "      <td>55.14500</td>\n",
       "      <td>1.0701</td>\n",
       "      <td>-31.4420</td>\n",
       "      <td>20.914</td>\n",
       "      <td>39.9590</td>\n",
       "    </tr>\n",
       "    <tr>\n",
       "      <th>1</th>\n",
       "      <td>2.432400</td>\n",
       "      <td>10.4920</td>\n",
       "      <td>16.6900</td>\n",
       "      <td>14.609</td>\n",
       "      <td>3.8112</td>\n",
       "      <td>-8.9224</td>\n",
       "      <td>-15.1370</td>\n",
       "      <td>-11.82400</td>\n",
       "      <td>-3.60240</td>\n",
       "      <td>2.0792</td>\n",
       "      <td>...</td>\n",
       "      <td>16.7950</td>\n",
       "      <td>3.3646</td>\n",
       "      <td>5.7902</td>\n",
       "      <td>52.7540</td>\n",
       "      <td>-19.5210</td>\n",
       "      <td>-9.35210</td>\n",
       "      <td>63.4920</td>\n",
       "      <td>-17.8800</td>\n",
       "      <td>-40.938</td>\n",
       "      <td>6.2865</td>\n",
       "    </tr>\n",
       "    <tr>\n",
       "      <th>2</th>\n",
       "      <td>-0.166710</td>\n",
       "      <td>-1.0756</td>\n",
       "      <td>-0.8531</td>\n",
       "      <td>1.626</td>\n",
       "      <td>-1.8959</td>\n",
       "      <td>2.4717</td>\n",
       "      <td>-0.2629</td>\n",
       "      <td>-1.43750</td>\n",
       "      <td>0.89766</td>\n",
       "      <td>-2.4570</td>\n",
       "      <td>...</td>\n",
       "      <td>-3.3971</td>\n",
       "      <td>-8.2973</td>\n",
       "      <td>8.8071</td>\n",
       "      <td>-3.6586</td>\n",
       "      <td>-6.4716</td>\n",
       "      <td>0.87079</td>\n",
       "      <td>2.6530</td>\n",
       "      <td>2.2138</td>\n",
       "      <td>-1.323</td>\n",
       "      <td>-2.1806</td>\n",
       "    </tr>\n",
       "    <tr>\n",
       "      <th>3</th>\n",
       "      <td>-4.800300</td>\n",
       "      <td>-3.5558</td>\n",
       "      <td>-5.2497</td>\n",
       "      <td>-10.011</td>\n",
       "      <td>-10.9800</td>\n",
       "      <td>-3.5785</td>\n",
       "      <td>4.9622</td>\n",
       "      <td>2.28200</td>\n",
       "      <td>-11.07200</td>\n",
       "      <td>-17.1180</td>\n",
       "      <td>...</td>\n",
       "      <td>2.9662</td>\n",
       "      <td>-6.1161</td>\n",
       "      <td>-34.6170</td>\n",
       "      <td>-96.5080</td>\n",
       "      <td>-94.9050</td>\n",
       "      <td>-8.84960</td>\n",
       "      <td>48.7190</td>\n",
       "      <td>-15.2810</td>\n",
       "      <td>-15.786</td>\n",
       "      <td>34.8360</td>\n",
       "    </tr>\n",
       "    <tr>\n",
       "      <th>4</th>\n",
       "      <td>-0.048579</td>\n",
       "      <td>-11.9320</td>\n",
       "      <td>-25.6890</td>\n",
       "      <td>-35.259</td>\n",
       "      <td>-36.0600</td>\n",
       "      <td>-27.6460</td>\n",
       "      <td>-13.9240</td>\n",
       "      <td>-0.79703</td>\n",
       "      <td>7.31190</td>\n",
       "      <td>9.8219</td>\n",
       "      <td>...</td>\n",
       "      <td>63.1690</td>\n",
       "      <td>64.7760</td>\n",
       "      <td>53.0120</td>\n",
       "      <td>-83.1160</td>\n",
       "      <td>-50.6480</td>\n",
       "      <td>79.74300</td>\n",
       "      <td>-16.5700</td>\n",
       "      <td>74.2040</td>\n",
       "      <td>72.036</td>\n",
       "      <td>100.2200</td>\n",
       "    </tr>\n",
       "  </tbody>\n",
       "</table>\n",
       "<p>5 rows × 216 columns</p>\n",
       "</div>"
      ],
      "text/plain": [
       "       f-1-1    f-1-2    f-1-3   f-1-4    f-1-5    f-1-6    f-1-7     f-1-8  \\\n",
       "0  25.575000  25.5650   6.8052 -26.012 -55.1290 -62.0750 -43.3400 -14.26500   \n",
       "1   2.432400  10.4920  16.6900  14.609   3.8112  -8.9224 -15.1370 -11.82400   \n",
       "2  -0.166710  -1.0756  -0.8531   1.626  -1.8959   2.4717  -0.2629  -1.43750   \n",
       "3  -4.800300  -3.5558  -5.2497 -10.011 -10.9800  -3.5785   4.9622   2.28200   \n",
       "4  -0.048579 -11.9320 -25.6890 -35.259 -36.0600 -27.6460 -13.9240  -0.79703   \n",
       "\n",
       "      f-1-9   f-1-10  ...    f-6-27    f-6-28   f-6-29   f-6-30   f-6-31  \\\n",
       "0   4.03600   2.8128  ...  114.9600  116.3700  69.0540  11.8250  29.5960   \n",
       "1  -3.60240   2.0792  ...   16.7950    3.3646   5.7902  52.7540 -19.5210   \n",
       "2   0.89766  -2.4570  ...   -3.3971   -8.2973   8.8071  -3.6586  -6.4716   \n",
       "3 -11.07200 -17.1180  ...    2.9662   -6.1161 -34.6170 -96.5080 -94.9050   \n",
       "4   7.31190   9.8219  ...   63.1690   64.7760  53.0120 -83.1160 -50.6480   \n",
       "\n",
       "     f-6-32   f-6-33   f-6-34  f-6-35    f-6-36  \n",
       "0  55.14500   1.0701 -31.4420  20.914   39.9590  \n",
       "1  -9.35210  63.4920 -17.8800 -40.938    6.2865  \n",
       "2   0.87079   2.6530   2.2138  -1.323   -2.1806  \n",
       "3  -8.84960  48.7190 -15.2810 -15.786   34.8360  \n",
       "4  79.74300 -16.5700  74.2040  72.036  100.2200  \n",
       "\n",
       "[5 rows x 216 columns]"
      ]
     },
     "execution_count": 6,
     "metadata": {},
     "output_type": "execute_result"
    }
   ],
   "source": [
    "test_df.head()"
   ]
  },
  {
   "cell_type": "code",
   "execution_count": 7,
   "id": "deeca56d",
   "metadata": {
    "id": "deeca56d"
   },
   "outputs": [],
   "source": [
    "# Preprocess data\n",
    "# Convert the target column to categorical integer labels\n",
    "class_mapping = {label: idx for idx, label in enumerate(train_df['target'].unique())}\n",
    "train_df['target'] = train_df['target'].map(class_mapping)"
   ]
  },
  {
   "cell_type": "code",
   "execution_count": 8,
   "id": "6b3c1de4",
   "metadata": {
    "id": "6b3c1de4"
   },
   "outputs": [],
   "source": [
    "# Separate features and target\n",
    "X_train = train_df.drop('target', axis=1).values\n",
    "y_train = train_df['target'].values"
   ]
  },
  {
   "cell_type": "code",
   "execution_count": 10,
   "id": "364dd558",
   "metadata": {
    "id": "364dd558"
   },
   "outputs": [],
   "source": [
    "# Reshape for the model input\n",
    "X_train_reshaped = X_train.reshape((-1, 6, 36))\n",
    "X_test = test_df.values\n",
    "X_test_reshaped = X_test.reshape((-1, 6, 36))\n",
    "normalizer = tf.keras.layers.Normalization(axis=-1)\n",
    "# Adapt the normalizer with the correct reshaped data\n",
    "normalizer.adapt(X_train_reshaped)"
   ]
  },
  {
   "cell_type": "code",
   "execution_count": 11,
   "id": "1c55bc72",
   "metadata": {
    "id": "1c55bc72"
   },
   "outputs": [],
   "source": [
    "input_shape = X_train_reshaped.shape[1:]\n",
    "num_classes = len(class_mapping)"
   ]
  },
  {
   "cell_type": "code",
   "execution_count": 12,
   "id": "6a1d5aa4",
   "metadata": {
    "id": "6a1d5aa4"
   },
   "outputs": [],
   "source": [
    "# Adapt the normalizer to the reshaped data\n",
    "normalizer = tf.keras.layers.Normalization(axis=-1)\n",
    "normalizer.adapt(X_train_reshaped)\n",
    "\n",
    "# Model 1: LSTM with Dropout\n",
    "model_1 = tf.keras.models.Sequential([\n",
    "    normalizer,\n",
    "    tf.keras.layers.LSTM(64, return_sequences=True),\n",
    "    tf.keras.layers.Dropout(0.1),\n",
    "    tf.keras.layers.LSTM(32),\n",
    "    tf.keras.layers.Dense(num_classes, activation='softmax')\n",
    "])\n",
    "\n",
    "model_1.compile(optimizer='adam', loss='sparse_categorical_crossentropy', metrics=['accuracy'])"
   ]
  },
  {
   "cell_type": "code",
   "execution_count": 13,
   "id": "27cee5e9",
   "metadata": {
    "colab": {
     "base_uri": "https://localhost:8080/"
    },
    "id": "27cee5e9",
    "outputId": "cbe52144-638a-455f-ebfb-73d09a96d4ae"
   },
   "outputs": [
    {
     "name": "stdout",
     "output_type": "stream",
     "text": [
      "45/45 [==============================] - 1s 4ms/step\n"
     ]
    }
   ],
   "source": [
    "# Train the model\n",
    "history_1 = model_1.fit(X_train_reshaped, y_train, epochs=50, batch_size=64, validation_split=0.2, verbose=0)\n",
    "\n",
    "# Make predictions\n",
    "predictions_1 = model_1.predict(X_test_reshaped)\n",
    "\n",
    "# Prepare submission DataFrame\n",
    "submission_df_1 = pd.DataFrame(predictions_1, columns=['class_' + str(i) for i in range(num_classes)])\n",
    "submission_df_1.insert(0, 'object_id', test_df.index)\n",
    "submission_df_1.to_csv('submission_1.csv', index=False)"
   ]
  },
  {
   "cell_type": "code",
   "execution_count": 14,
   "id": "001fd3b3",
   "metadata": {
    "id": "001fd3b3"
   },
   "outputs": [],
   "source": [
    "# Model 2: More layers, more dropouts\n",
    "model_2 = tf.keras.models.Sequential([\n",
    "    normalizer,\n",
    "    tf.keras.layers.LSTM(128, return_sequences=True),\n",
    "    tf.keras.layers.Dropout(0.3),\n",
    "    tf.keras.layers.LSTM(64),\n",
    "    tf.keras.layers.Dropout(0.3),\n",
    "    tf.keras.layers.Dense(num_classes, activation='softmax')\n",
    "])\n",
    "model_2.compile(optimizer='adam', loss='sparse_categorical_crossentropy', metrics=['accuracy'])"
   ]
  },
  {
   "cell_type": "code",
   "execution_count": 15,
   "id": "77438235",
   "metadata": {
    "colab": {
     "base_uri": "https://localhost:8080/"
    },
    "id": "77438235",
    "outputId": "dbac070e-605d-47b1-e96d-2df19160c7eb"
   },
   "outputs": [
    {
     "name": "stdout",
     "output_type": "stream",
     "text": [
      "45/45 [==============================] - 1s 8ms/step\n"
     ]
    }
   ],
   "source": [
    "# Train the model\n",
    "history_2 = model_2.fit(X_train_reshaped, y_train, epochs=50, batch_size=64, validation_split=0.2, verbose=0)\n",
    "\n",
    "# Make predictions\n",
    "predictions_2 = model_2.predict(X_test_reshaped)\n",
    "\n",
    "# Prepare submission DataFrame\n",
    "submission_df_2 = pd.DataFrame(predictions_2, columns=['class_' + str(i) for i in range(num_classes)])\n",
    "submission_df_2.insert(0, 'object_id', test_df.index)\n",
    "submission_df_2.to_csv('submission_2.csv', index=False)"
   ]
  },
  {
   "cell_type": "code",
   "execution_count": 16,
   "id": "89291502",
   "metadata": {
    "id": "89291502"
   },
   "outputs": [],
   "source": [
    "# Model 3: GRU with BatchNormalization\n",
    "model_3 = tf.keras.models.Sequential([\n",
    "    normalizer,\n",
    "    tf.keras.layers.GRU(64, return_sequences=True),\n",
    "    tf.keras.layers.BatchNormalization(),\n",
    "    tf.keras.layers.GRU(32),\n",
    "    tf.keras.layers.BatchNormalization(),\n",
    "    tf.keras.layers.Dense(num_classes, activation='softmax')\n",
    "])\n",
    "model_3.compile(optimizer='adam', loss='sparse_categorical_crossentropy', metrics=['accuracy'])"
   ]
  },
  {
   "cell_type": "code",
   "execution_count": 17,
   "id": "981ec384",
   "metadata": {
    "colab": {
     "base_uri": "https://localhost:8080/"
    },
    "id": "981ec384",
    "outputId": "a8999178-9058-4b09-85f7-27e42a637851"
   },
   "outputs": [
    {
     "name": "stdout",
     "output_type": "stream",
     "text": [
      "45/45 [==============================] - 1s 5ms/step\n"
     ]
    }
   ],
   "source": [
    "# Train the model\n",
    "history_3 = model_3.fit(X_train_reshaped, y_train, epochs=50, batch_size=64, validation_split=0.2, verbose=0)\n",
    "\n",
    "# Make predictions\n",
    "predictions_3 = model_3.predict(X_test_reshaped)\n",
    "\n",
    "# Prepare submission DataFrame\n",
    "submission_df_3 = pd.DataFrame(predictions_3, columns=['class_' + str(i) for i in range(num_classes)])\n",
    "submission_df_3.insert(0, 'object_id', test_df.index)\n",
    "submission_df_3.to_csv('submission_3.csv', index=False)"
   ]
  },
  {
   "cell_type": "code",
   "execution_count": 18,
   "id": "d4abd29f",
   "metadata": {
    "id": "d4abd29f"
   },
   "outputs": [],
   "source": [
    "# Model 4: Bidirectional LSTM\n",
    "model_4 = tf.keras.models.Sequential([\n",
    "    normalizer,\n",
    "    tf.keras.layers.Bidirectional(tf.keras.layers.LSTM(64, return_sequences=True)),\n",
    "    tf.keras.layers.Bidirectional(tf.keras.layers.LSTM(32)),\n",
    "    tf.keras.layers.Dense(num_classes, activation='softmax')\n",
    "])\n",
    "model_4.compile(optimizer='adam', loss='sparse_categorical_crossentropy', metrics=['accuracy'])"
   ]
  },
  {
   "cell_type": "code",
   "execution_count": 19,
   "id": "2cae2898",
   "metadata": {
    "colab": {
     "base_uri": "https://localhost:8080/"
    },
    "id": "2cae2898",
    "outputId": "89f34616-4d7e-4665-daa5-bc2db3492533"
   },
   "outputs": [
    {
     "name": "stdout",
     "output_type": "stream",
     "text": [
      "45/45 [==============================] - 1s 4ms/step\n"
     ]
    }
   ],
   "source": [
    "# Train the model\n",
    "history_4 = model_4.fit(X_train_reshaped, y_train, epochs=50, batch_size=64, validation_split=0.2, verbose=0)\n",
    "\n",
    "# Make predictions\n",
    "predictions_4 = model_4.predict(X_test_reshaped)\n",
    "\n",
    "# Prepare submission DataFrame\n",
    "submission_df_4 = pd.DataFrame(predictions_4, columns=['class_' + str(i) for i in range(num_classes)])\n",
    "submission_df_4.insert(0, 'object_id', test_df.index)\n",
    "submission_df_4.to_csv('submission_4.csv', index=False)"
   ]
  },
  {
   "cell_type": "code",
   "execution_count": 20,
   "id": "b531ce14",
   "metadata": {
    "id": "b531ce14"
   },
   "outputs": [],
   "source": [
    "# Model 5: Convolutional Neural Network and LSTM\n",
    "model_5 = tf.keras.models.Sequential([\n",
    "    normalizer,\n",
    "    tf.keras.layers.Conv1D(filters=64, kernel_size=2, activation='relu', padding='same'),\n",
    "    tf.keras.layers.MaxPooling1D(pool_size=2),\n",
    "    tf.keras.layers.Conv1D(filters=128, kernel_size=2, activation='relu', padding='same'),\n",
    "    tf.keras.layers.MaxPooling1D(pool_size=2),\n",
    "    tf.keras.layers.LSTM(64),\n",
    "    tf.keras.layers.Flatten(),\n",
    "    tf.keras.layers.Dense(num_classes, activation='softmax')\n",
    "])\n",
    "model_5.compile(optimizer='adam', loss='sparse_categorical_crossentropy', metrics=['accuracy'])"
   ]
  },
  {
   "cell_type": "code",
   "execution_count": 21,
   "id": "b08e50d6",
   "metadata": {
    "colab": {
     "base_uri": "https://localhost:8080/"
    },
    "id": "b08e50d6",
    "outputId": "cab5b013-e4f8-475d-a1fb-35722142ce7f"
   },
   "outputs": [
    {
     "name": "stdout",
     "output_type": "stream",
     "text": [
      "45/45 [==============================] - 0s 3ms/step\n"
     ]
    }
   ],
   "source": [
    "# Train the model\n",
    "history_5 = model_5.fit(X_train_reshaped, y_train, epochs=50, batch_size=64, validation_split=0.2, verbose=0)\n",
    "\n",
    "# Make predictions\n",
    "predictions_5 = model_5.predict(X_test_reshaped)\n",
    "\n",
    "# Prepare submission DataFrame\n",
    "submission_df_5 = pd.DataFrame(predictions_5, columns=['class_' + str(i) for i in range(num_classes)])\n",
    "submission_df_5.insert(0, 'object_id', test_df.index)\n",
    "submission_df_5.to_csv('submission_5.csv', index=False)"
   ]
  },
  {
   "cell_type": "markdown",
   "id": "eZ-sHC8luRO7",
   "metadata": {
    "id": "eZ-sHC8luRO7"
   },
   "source": [
    "Checking the best model"
   ]
  },
  {
   "cell_type": "code",
   "execution_count": 22,
   "id": "GpGsQYNZuQv4",
   "metadata": {
    "colab": {
     "base_uri": "https://localhost:8080/"
    },
    "id": "GpGsQYNZuQv4",
    "outputId": "628bd527-e8eb-4254-f211-906fc42ae058"
   },
   "outputs": [
    {
     "name": "stdout",
     "output_type": "stream",
     "text": [
      "Epoch 1/50\n",
      "42/42 [==============================] - 0s 11ms/step - loss: 1.1456 - accuracy: 0.6125 - val_loss: 1.4296 - val_accuracy: 0.5521\n",
      "Epoch 2/50\n",
      "42/42 [==============================] - 0s 10ms/step - loss: 1.1488 - accuracy: 0.6103 - val_loss: 1.4308 - val_accuracy: 0.5402\n",
      "Epoch 3/50\n",
      "42/42 [==============================] - 0s 11ms/step - loss: 1.1490 - accuracy: 0.6077 - val_loss: 1.4211 - val_accuracy: 0.5461\n",
      "Epoch 4/50\n",
      "42/42 [==============================] - 0s 10ms/step - loss: 1.1370 - accuracy: 0.6148 - val_loss: 1.4159 - val_accuracy: 0.5476\n",
      "Epoch 5/50\n",
      "42/42 [==============================] - 1s 13ms/step - loss: 1.1311 - accuracy: 0.6129 - val_loss: 1.4344 - val_accuracy: 0.5298\n",
      "Epoch 6/50\n",
      "42/42 [==============================] - 1s 12ms/step - loss: 1.1329 - accuracy: 0.6140 - val_loss: 1.4233 - val_accuracy: 0.5208\n",
      "Epoch 7/50\n",
      "42/42 [==============================] - 1s 13ms/step - loss: 1.1309 - accuracy: 0.6107 - val_loss: 1.4099 - val_accuracy: 0.5521\n",
      "Epoch 8/50\n",
      "42/42 [==============================] - 1s 13ms/step - loss: 1.1118 - accuracy: 0.6211 - val_loss: 1.4231 - val_accuracy: 0.5223\n",
      "Epoch 9/50\n",
      "42/42 [==============================] - 1s 14ms/step - loss: 1.1082 - accuracy: 0.6241 - val_loss: 1.4202 - val_accuracy: 0.5357\n",
      "Epoch 10/50\n",
      "42/42 [==============================] - 0s 10ms/step - loss: 1.1025 - accuracy: 0.6256 - val_loss: 1.4156 - val_accuracy: 0.5372\n",
      "Epoch 11/50\n",
      "42/42 [==============================] - 0s 10ms/step - loss: 1.0960 - accuracy: 0.6304 - val_loss: 1.3948 - val_accuracy: 0.5446\n",
      "Epoch 12/50\n",
      "42/42 [==============================] - 1s 12ms/step - loss: 1.0835 - accuracy: 0.6352 - val_loss: 1.4163 - val_accuracy: 0.5268\n",
      "Epoch 13/50\n",
      "42/42 [==============================] - 0s 10ms/step - loss: 1.0893 - accuracy: 0.6256 - val_loss: 1.4003 - val_accuracy: 0.5283\n",
      "Epoch 14/50\n",
      "42/42 [==============================] - 0s 12ms/step - loss: 1.0778 - accuracy: 0.6319 - val_loss: 1.3819 - val_accuracy: 0.5432\n",
      "Epoch 15/50\n",
      "42/42 [==============================] - 0s 11ms/step - loss: 1.0811 - accuracy: 0.6289 - val_loss: 1.4092 - val_accuracy: 0.5268\n",
      "Epoch 16/50\n",
      "42/42 [==============================] - 1s 13ms/step - loss: 1.0830 - accuracy: 0.6285 - val_loss: 1.3884 - val_accuracy: 0.5417\n",
      "Epoch 17/50\n",
      "42/42 [==============================] - 0s 10ms/step - loss: 1.0629 - accuracy: 0.6438 - val_loss: 1.3930 - val_accuracy: 0.5432\n",
      "Epoch 18/50\n",
      "42/42 [==============================] - 0s 10ms/step - loss: 1.0557 - accuracy: 0.6367 - val_loss: 1.3905 - val_accuracy: 0.5253\n",
      "Epoch 19/50\n",
      "42/42 [==============================] - 0s 10ms/step - loss: 1.0609 - accuracy: 0.6304 - val_loss: 1.3664 - val_accuracy: 0.5476\n",
      "Epoch 20/50\n",
      "42/42 [==============================] - 0s 10ms/step - loss: 1.0497 - accuracy: 0.6434 - val_loss: 1.3818 - val_accuracy: 0.5372\n",
      "Epoch 21/50\n",
      "42/42 [==============================] - 0s 10ms/step - loss: 1.0472 - accuracy: 0.6438 - val_loss: 1.3751 - val_accuracy: 0.5461\n",
      "Epoch 22/50\n",
      "42/42 [==============================] - 0s 10ms/step - loss: 1.0340 - accuracy: 0.6531 - val_loss: 1.3895 - val_accuracy: 0.5565\n",
      "Epoch 23/50\n",
      "42/42 [==============================] - 0s 10ms/step - loss: 1.0294 - accuracy: 0.6472 - val_loss: 1.3751 - val_accuracy: 0.5640\n",
      "Epoch 24/50\n",
      "42/42 [==============================] - 0s 10ms/step - loss: 1.0329 - accuracy: 0.6528 - val_loss: 1.3660 - val_accuracy: 0.5640\n",
      "Epoch 25/50\n",
      "42/42 [==============================] - 0s 10ms/step - loss: 1.0319 - accuracy: 0.6457 - val_loss: 1.3892 - val_accuracy: 0.5506\n",
      "Epoch 26/50\n",
      "42/42 [==============================] - 1s 13ms/step - loss: 1.0173 - accuracy: 0.6531 - val_loss: 1.3703 - val_accuracy: 0.5625\n",
      "Epoch 27/50\n",
      "42/42 [==============================] - 0s 10ms/step - loss: 1.0089 - accuracy: 0.6621 - val_loss: 1.3923 - val_accuracy: 0.5283\n",
      "Epoch 28/50\n",
      "42/42 [==============================] - 0s 11ms/step - loss: 1.0112 - accuracy: 0.6572 - val_loss: 1.3470 - val_accuracy: 0.5714\n",
      "Epoch 29/50\n",
      "42/42 [==============================] - 1s 14ms/step - loss: 0.9997 - accuracy: 0.6654 - val_loss: 1.3832 - val_accuracy: 0.5551\n",
      "Epoch 30/50\n",
      "42/42 [==============================] - 1s 14ms/step - loss: 0.9997 - accuracy: 0.6561 - val_loss: 1.3609 - val_accuracy: 0.5461\n",
      "Epoch 31/50\n",
      "42/42 [==============================] - 0s 10ms/step - loss: 1.0089 - accuracy: 0.6606 - val_loss: 1.3555 - val_accuracy: 0.5610\n",
      "Epoch 32/50\n",
      "42/42 [==============================] - 0s 11ms/step - loss: 0.9998 - accuracy: 0.6662 - val_loss: 1.3653 - val_accuracy: 0.5342\n",
      "Epoch 33/50\n",
      "42/42 [==============================] - 1s 14ms/step - loss: 0.9935 - accuracy: 0.6673 - val_loss: 1.3446 - val_accuracy: 0.5551\n",
      "Epoch 34/50\n",
      "42/42 [==============================] - 1s 13ms/step - loss: 0.9864 - accuracy: 0.6665 - val_loss: 1.3617 - val_accuracy: 0.5670\n",
      "Epoch 35/50\n",
      "42/42 [==============================] - 1s 15ms/step - loss: 0.9782 - accuracy: 0.6647 - val_loss: 1.3624 - val_accuracy: 0.5551\n",
      "Epoch 36/50\n",
      "42/42 [==============================] - 0s 11ms/step - loss: 0.9764 - accuracy: 0.6699 - val_loss: 1.3526 - val_accuracy: 0.5476\n",
      "Epoch 37/50\n",
      "42/42 [==============================] - 0s 10ms/step - loss: 0.9711 - accuracy: 0.6740 - val_loss: 1.4358 - val_accuracy: 0.5193\n",
      "Epoch 38/50\n",
      "42/42 [==============================] - 0s 11ms/step - loss: 0.9685 - accuracy: 0.6732 - val_loss: 1.3581 - val_accuracy: 0.5551\n",
      "Epoch 1/50\n",
      "42/42 [==============================] - 0s 11ms/step - loss: 0.9829 - accuracy: 0.6651 - val_loss: 1.3488 - val_accuracy: 0.5685\n",
      "Epoch 2/50\n",
      "42/42 [==============================] - 0s 11ms/step - loss: 0.9782 - accuracy: 0.6714 - val_loss: 1.3775 - val_accuracy: 0.5446\n",
      "Epoch 3/50\n",
      "42/42 [==============================] - 0s 11ms/step - loss: 0.9716 - accuracy: 0.6759 - val_loss: 1.3768 - val_accuracy: 0.5565\n",
      "Epoch 4/50\n",
      "42/42 [==============================] - 0s 11ms/step - loss: 0.9672 - accuracy: 0.6725 - val_loss: 1.3544 - val_accuracy: 0.5625\n",
      "Epoch 5/50\n",
      "42/42 [==============================] - 0s 11ms/step - loss: 0.9786 - accuracy: 0.6602 - val_loss: 1.3513 - val_accuracy: 0.5536\n",
      "Epoch 6/50\n",
      "42/42 [==============================] - 0s 11ms/step - loss: 0.9538 - accuracy: 0.6796 - val_loss: 1.3664 - val_accuracy: 0.5476\n",
      "Epoch 1/50\n",
      "42/42 [==============================] - 0s 11ms/step - loss: 0.9332 - accuracy: 0.6755 - val_loss: 1.3116 - val_accuracy: 0.5595\n",
      "Epoch 2/50\n",
      "42/42 [==============================] - 0s 10ms/step - loss: 0.9119 - accuracy: 0.6878 - val_loss: 1.2855 - val_accuracy: 0.5774\n",
      "Epoch 3/50\n",
      "42/42 [==============================] - 0s 11ms/step - loss: 0.9034 - accuracy: 0.6919 - val_loss: 1.3170 - val_accuracy: 0.5461\n",
      "Epoch 4/50\n",
      "42/42 [==============================] - 0s 11ms/step - loss: 0.8888 - accuracy: 0.7031 - val_loss: 1.2952 - val_accuracy: 0.5685\n",
      "Epoch 5/50\n",
      "42/42 [==============================] - 0s 10ms/step - loss: 0.8941 - accuracy: 0.6893 - val_loss: 1.4619 - val_accuracy: 0.4970\n",
      "Epoch 6/50\n",
      "42/42 [==============================] - 0s 10ms/step - loss: 0.8847 - accuracy: 0.7019 - val_loss: 1.4604 - val_accuracy: 0.5387\n",
      "Epoch 7/50\n",
      "42/42 [==============================] - 0s 10ms/step - loss: 0.8656 - accuracy: 0.7116 - val_loss: 1.4021 - val_accuracy: 0.5387\n",
      "Epoch 1/50\n",
      "42/42 [==============================] - 1s 16ms/step - loss: 0.9423 - accuracy: 0.6822 - val_loss: 1.4761 - val_accuracy: 0.5193\n",
      "Epoch 2/50\n",
      "42/42 [==============================] - 1s 16ms/step - loss: 0.9285 - accuracy: 0.6859 - val_loss: 1.4417 - val_accuracy: 0.5417\n",
      "Epoch 3/50\n",
      "42/42 [==============================] - 1s 15ms/step - loss: 0.9307 - accuracy: 0.6867 - val_loss: 1.4457 - val_accuracy: 0.5551\n",
      "Epoch 4/50\n",
      "42/42 [==============================] - 1s 15ms/step - loss: 0.9138 - accuracy: 0.6982 - val_loss: 1.4455 - val_accuracy: 0.5193\n",
      "Epoch 5/50\n",
      "42/42 [==============================] - 1s 16ms/step - loss: 0.9028 - accuracy: 0.6945 - val_loss: 1.4753 - val_accuracy: 0.5268\n",
      "Epoch 6/50\n",
      "42/42 [==============================] - 1s 18ms/step - loss: 0.9073 - accuracy: 0.6967 - val_loss: 1.4703 - val_accuracy: 0.5074\n",
      "Epoch 7/50\n",
      "42/42 [==============================] - 1s 19ms/step - loss: 0.8970 - accuracy: 0.7019 - val_loss: 1.4662 - val_accuracy: 0.5312\n"
     ]
    },
    {
     "name": "stdout",
     "output_type": "stream",
     "text": [
      "Epoch 1/50\n",
      "42/42 [==============================] - 0s 8ms/step - loss: 0.6572 - accuracy: 0.7779 - val_loss: 1.3105 - val_accuracy: 0.6027\n",
      "Epoch 2/50\n",
      "42/42 [==============================] - 0s 7ms/step - loss: 0.6603 - accuracy: 0.7921 - val_loss: 1.3260 - val_accuracy: 0.5685\n",
      "Epoch 3/50\n",
      "42/42 [==============================] - 0s 7ms/step - loss: 0.6249 - accuracy: 0.7966 - val_loss: 1.2722 - val_accuracy: 0.6116\n",
      "Epoch 4/50\n",
      "42/42 [==============================] - 0s 7ms/step - loss: 0.6103 - accuracy: 0.8066 - val_loss: 1.2687 - val_accuracy: 0.6116\n",
      "Epoch 5/50\n",
      "42/42 [==============================] - 0s 7ms/step - loss: 0.5941 - accuracy: 0.8089 - val_loss: 1.2879 - val_accuracy: 0.6146\n",
      "Epoch 6/50\n",
      "42/42 [==============================] - 0s 8ms/step - loss: 0.6032 - accuracy: 0.8055 - val_loss: 1.2843 - val_accuracy: 0.6012\n",
      "Epoch 7/50\n",
      "42/42 [==============================] - 0s 11ms/step - loss: 0.5751 - accuracy: 0.8174 - val_loss: 1.3048 - val_accuracy: 0.6116\n",
      "Epoch 8/50\n",
      "42/42 [==============================] - 0s 9ms/step - loss: 0.5588 - accuracy: 0.8256 - val_loss: 1.3074 - val_accuracy: 0.5952\n",
      "Epoch 9/50\n",
      "42/42 [==============================] - 0s 6ms/step - loss: 0.5508 - accuracy: 0.8297 - val_loss: 1.3770 - val_accuracy: 0.5893\n",
      "[{'model': 'model_5', 'val_accuracy': 0.6145833134651184, 'val_loss': 1.2687368392944336}, {'model': 'model_3', 'val_accuracy': 0.5773809552192688, 'val_loss': 1.2855219841003418}, {'model': 'model_1', 'val_accuracy': 0.5714285969734192, 'val_loss': 1.3445675373077393}, {'model': 'model_2', 'val_accuracy': 0.5684523582458496, 'val_loss': 1.3487677574157715}, {'model': 'model_4', 'val_accuracy': 0.555059552192688, 'val_loss': 1.4416824579238892}]\n"
     ]
    }
   ],
   "source": [
    "from tensorflow.keras.callbacks import EarlyStopping\n",
    "\n",
    "# Define an EarlyStopping callback\n",
    "early_stopping = EarlyStopping(monitor='val_loss', patience=5, restore_best_weights=True)\n",
    "\n",
    "# Train each model and store the validation performance\n",
    "validation_results = []\n",
    "models = [model_1, model_1, model_3, model_4, model_5]\n",
    "for i, model in enumerate (models):\n",
    "    history = model.fit(\n",
    "        X_train_reshaped,\n",
    "        y_train,\n",
    "        epochs=50,\n",
    "        batch_size=64,\n",
    "        validation_split=0.2,\n",
    "        callbacks=[early_stopping],\n",
    "        verbose=1  # Set to 0 for no output, 1 for progress bar, 2 for one line per epoch\n",
    "    )\n",
    "    validation_results.append({\n",
    "        'model': f'model_{i+1}',\n",
    "        'val_accuracy': max(history.history['val_accuracy']),\n",
    "        'val_loss': min(history.history['val_loss'])\n",
    "    })\n",
    "\n",
    "# Sort the models based on validation accuracy or loss\n",
    "best_models = sorted(validation_results, key=lambda x: x['val_accuracy'], reverse=True)\n",
    "print(best_models)"
   ]
  },
  {
   "cell_type": "code",
   "execution_count": 23,
   "id": "2d0ca056",
   "metadata": {},
   "outputs": [
    {
     "name": "stdout",
     "output_type": "stream",
     "text": [
      "     model  val_accuracy  val_loss\n",
      "0  Model 1          0.55      1.35\n",
      "1  Model 2          0.57      1.33\n",
      "2  Model 3          0.58      1.30\n",
      "3  Model 4          0.56      1.34\n",
      "4  Model 5          0.60      1.28\n"
     ]
    }
   ],
   "source": [
    "histories = [\n",
    "    {'model': 'Model 1', 'val_accuracy': 0.55, 'val_loss': 1.35},\n",
    "    {'model': 'Model 2', 'val_accuracy': 0.57, 'val_loss': 1.33},\n",
    "    {'model': 'Model 3', 'val_accuracy': 0.58, 'val_loss': 1.30},\n",
    "    {'model': 'Model 4', 'val_accuracy': 0.56, 'val_loss': 1.34},\n",
    "    {'model': 'Model 5', 'val_accuracy': 0.60, 'val_loss': 1.28},\n",
    "]\n",
    "\n",
    "\n",
    "results_df = pd.DataFrame(histories)\n",
    "\n",
    "print(results_df)"
   ]
  },
  {
   "cell_type": "code",
   "execution_count": 26,
   "id": "a895b422",
   "metadata": {},
   "outputs": [
    {
     "data": {
      "image/png": "[encoded data removed]",
      "text/plain": [
       "<Figure size 1000x600 with 2 Axes>"
      ]
     },
     "metadata": {},
     "output_type": "display_data"
    }
   ],
   "source": [
    "from matplotlib import pyplot as plt\n",
    "# Now, let's plot the results\n",
    "plt.figure(figsize=(10, 6))\n",
    "\n",
    "# Plotting the validation accuracy of each model\n",
    "plt.subplot(1, 2, 1)\n",
    "plt.bar(results_df['model'], results_df['val_accuracy'], color='blue', alpha=0.7)\n",
    "plt.title('Validation Accuracy of Models')\n",
    "plt.xlabel('Model')\n",
    "plt.ylabel('Validation Accuracy')\n",
    "\n",
    "# Plotting the validation loss of each model\n",
    "plt.subplot(1, 2, 2)\n",
    "plt.bar(results_df['model'], results_df['val_loss'], color='orange', alpha=0.7)\n",
    "plt.title('Validation Loss of Models')\n",
    "plt.xlabel('Model')\n",
    "plt.ylabel('Validation Loss')\n",
    "\n",
    "plt.tight_layout()\n",
    "plt.show()"
   ]
  },
  {
   "cell_type": "markdown",
   "id": "PWXjq7SVw6QZ",
   "metadata": {
    "id": "PWXjq7SVw6QZ"
   },
   "source": [
    "Model 5 seems to be the most promising model for this particular dataset, closely followed by Model 2. The results suggest that incorporating convolutional layers (as in Model 5) could be beneficial for this time series classification task. However, it's important to note that validation results are only indicative, and the true test of performance will be on the unseen test data."
   ]
  },
  {
   "cell_type": "markdown",
   "id": "LNKy1F3QtWEd",
   "metadata": {
    "id": "LNKy1F3QtWEd"
   },
   "source": [
    "## Model Architecture\n",
    "- The models were designed with different combinations of LSTM, GRU, and Conv1D layers to capture the temporal dependencies within the time series data effectively.\n",
    "- Bidirectional LSTMs were used in one of the models to process the time series data both forwards and backwards, potentially capturing additional patterns that a unidirectional LSTM might miss.\n",
    "- Conv1D layers were included in one model to extract features from the time-series data across the time steps before passing them to the LSTM layers, following the intuition that convolutional filters can identify local patterns within the time steps.\n",
    "- Dropout layers were included to prevent overfitting by introducing some level of noise to the training process, thereby forcing the network to learn more robust features.\n",
    "- Batch normalization layers were included in the GRU-based model to standardize the inputs to the next layer, potentially speeding up training and achieving better performance.\n",
    "\n",
    "## Training Process\n",
    "- A standard `adam` optimizer was chosen for its adaptive learning rate properties, which can lead to quicker convergence.\n",
    "- We used `sparse_categorical_crossentropy` as our loss function, as our target labels are integer-encoded, and this function expects integers as the targets.\n",
    "- A validation split of 20% was used during training to monitor the model's performance on unseen data and prevent overfitting.\n",
    "- The number of epochs was set conservatively to avoid overfitting, with the understanding that this parameter might need adjustment based on the validation performance.\n",
    "- Models were trained with a batch size of 64, balancing the trade-off between memory consumption and the benefits of vectorization.\n",
    "\n",
    "## Other Considerations\n",
    "- Normalization was applied as a layer within the model itself to ensure consistent application of this preprocessing step during both training and inference.\n",
    "- The number of filters and kernel sizes in Conv1D layers were carefully chosen to ensure the model has enough capacity to learn from the data without reducing the temporal resolution too much after pooling operations.\n"
   ]
  }
 ],
 "metadata": {
  "accelerator": "GPU",
  "colab": {
   "gpuType": "T4",
   "provenance": []
  },
  "kernelspec": {
   "display_name": "Python 3 (ipykernel)",
   "language": "python",
   "name": "python3"
  },
  "language_info": {
   "codemirror_mode": {
    "name": "ipython",
    "version": 3
   },
   "file_extension": ".py",
   "mimetype": "text/x-python",
   "name": "python",
   "nbconvert_exporter": "python",
   "pygments_lexer": "ipython3",
   "version": "3.9.18"
  }
 },
 "nbformat": 4,
 "nbformat_minor": 5
}
